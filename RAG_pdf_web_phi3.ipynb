{
 "cells": [
  {
   "cell_type": "markdown",
   "id": "61519f66-5abd-434d-89fa-de7ad4ab7b86",
   "metadata": {},
   "source": [
    "# 1. Carga de paquetes"
   ]
  },
  {
   "cell_type": "code",
   "execution_count": null,
   "id": "b84c63e7-38b5-4690-93a5-eb7fcbdcb65e",
   "metadata": {},
   "outputs": [],
   "source": [
    "from langchain_ollama import OllamaLLM\n",
    "from langchain_community.document_loaders import PyPDFLoader\n",
    "from langchain.text_splitter import RecursiveCharacterTextSplitter\n",
    "from langchain_experimental.text_splitter import SemanticChunker\n",
    "from langchain_huggingface import HuggingFaceEmbeddings\n",
    "from langchain_community.vectorstores import FAISS\n",
    "from langchain_core.prompts import ChatPromptTemplate\n",
    "from langchain_core.runnables import RunnablePassthrough\n",
    "from langchain_core.output_parsers import StrOutputParser"
   ]
  },
  {
   "cell_type": "markdown",
   "id": "ceccaa5b-a1e7-4d19-a5ed-b589a24e982e",
   "metadata": {},
   "source": [
    "# 2. RAG"
   ]
  },
  {
   "cell_type": "markdown",
   "id": "58402547-2cd8-46e6-94cb-fbeb899f840a",
   "metadata": {},
   "source": [
    "## 2.1 Carga del archivo y extracción del texto"
   ]
  },
  {
   "cell_type": "code",
   "execution_count": null,
   "id": "7daef9b5-c77f-4aba-844d-8af57c83f383",
   "metadata": {},
   "outputs": [],
   "source": [
    "# Archivo pdf en Internet\n",
    "file_path = \"https://www.argentina.gob.ar/sites/default/files/el_principe_feliz_-_oscar_wilde.pdf\"  # ELEGIR PDF.\n",
    "\n",
    "# Crear el cargador de PDF\n",
    "loader = PyPDFLoader(file_path)\n",
    "\n",
    "# Cargar el contenido del PDF\n",
    "document = loader.load_and_split()\n",
    "\n",
    "# Mostrar el número de páginas del documento\n",
    "print(len(document))"
   ]
  },
  {
   "cell_type": "code",
   "execution_count": null,
   "id": "5cc6764d-0cb0-4cd7-9362-668a0ec63cc9",
   "metadata": {
    "scrolled": true
   },
   "outputs": [],
   "source": [
    "# Extraer textos\n",
    "textos = [tupla.page_content for tupla in document]\n",
    "\n",
    "# Unir textos\n",
    "onedoc = \" \".join(textos)\n",
    "\n",
    "# Comporobar extensión\n",
    "print(len(onedoc))\n",
    "\n",
    "# Comprobar texto unido\n",
    "print(f\"\\n{onedoc}\")"
   ]
  },
  {
   "cell_type": "markdown",
   "id": "93f4b672-f4a3-4e4a-b590-d647b682c1d2",
   "metadata": {},
   "source": [
    "## 2.2 Chunking Semántico"
   ]
  },
  {
   "cell_type": "code",
   "execution_count": null,
   "id": "65d5755b-e494-492b-bb2f-5c4c1b60924b",
   "metadata": {},
   "outputs": [],
   "source": [
    "# Modelo de embeddings de HuggingFace\n",
    "embeddings_model = HuggingFaceEmbeddings(model_name=\"sentence-transformers/all-mpnet-base-v2\")\n",
    "\n",
    "# Determinar el umbral de división mediante percentil\n",
    "semantic_chunker = SemanticChunker(\n",
    "    embeddings_model,\n",
    "    breakpoint_threshold_type=\"percentile\"\n",
    ")"
   ]
  },
  {
   "cell_type": "code",
   "execution_count": null,
   "id": "66b92c9d-4ce2-4d06-85f7-a0bb2da92860",
   "metadata": {},
   "outputs": [],
   "source": [
    "# Semantic Chunker\n",
    "semantic_chunks = semantic_chunker.create_documents([onedoc])"
   ]
  },
  {
   "cell_type": "code",
   "execution_count": null,
   "id": "a5f32255-e30e-4692-b892-d67182787576",
   "metadata": {},
   "outputs": [],
   "source": [
    "# Creación de vectorstore y guardado\n",
    "semanctic_chunk_vectorstore = FAISS.from_documents(\n",
    "    semantic_chunks,\n",
    "    embedding=embeddings_model\n",
    ")"
   ]
  },
  {
   "cell_type": "markdown",
   "id": "b34d4c5e-fb6a-432a-bc2f-ae9c9ba777ed",
   "metadata": {},
   "source": [
    "## 2.3 Retrieval"
   ]
  },
  {
   "cell_type": "code",
   "execution_count": null,
   "id": "9e2106c3-f75d-48df-ac66-ea5216c6a9a2",
   "metadata": {},
   "outputs": [],
   "source": [
    "# Recuperación de la base de datos vectorial FAISS\n",
    "semantic_chunk_retriever = semanctic_chunk_vectorstore.as_retriever(search_kwargs={\"k\": 4})"
   ]
  },
  {
   "cell_type": "code",
   "execution_count": null,
   "id": "cb2fe983-8b10-4873-a469-a5eb72b6ce86",
   "metadata": {},
   "outputs": [],
   "source": [
    "# ELEGIR LA PREGUNTA QUE SE QUIERE HACER SOBRE EL PDF\n",
    "pregunta = \"¿Cómo se llama el cuento?\""
   ]
  },
  {
   "cell_type": "code",
   "execution_count": null,
   "id": "d1d862c3-56e7-437a-a6c2-2c779a1d04a5",
   "metadata": {
    "scrolled": true
   },
   "outputs": [],
   "source": [
    "semantic_chunk_retriever.invoke(pregunta)"
   ]
  },
  {
   "cell_type": "markdown",
   "id": "79076725-4f0d-4572-a4bd-22967067aefa",
   "metadata": {},
   "source": [
    "## 2.4 Augmented"
   ]
  },
  {
   "cell_type": "code",
   "execution_count": null,
   "id": "59596646-b7a9-4f8d-acf1-cb5b9d7cfc9e",
   "metadata": {},
   "outputs": [],
   "source": [
    "# Creación manual del template\n",
    "rag_template = \"\"\"\n",
    "Usa el siguiente contexto para responder a la pregunta del usuario.\n",
    "Si no conoces la respuesta, responde simplemente 'No lo sé'.\n",
    "Responde en 3 frases y de manera concisa. Contesta en español.\n",
    "\n",
    "User Query:\n",
    "{question}\n",
    "\n",
    "Context:\n",
    "{context}\n",
    "\"\"\"\n",
    "\n",
    "# Creación del prompt para el RAG\n",
    "rag_prompt = ChatPromptTemplate.from_template(rag_template)"
   ]
  },
  {
   "cell_type": "markdown",
   "id": "ea1b6c36-74dd-4a06-a9ef-bb8896ac0c49",
   "metadata": {},
   "source": [
    "## 2.5 Generation"
   ]
  },
  {
   "cell_type": "code",
   "execution_count": null,
   "id": "78dcd511-a379-4a28-acbd-596bf563e70a",
   "metadata": {},
   "outputs": [],
   "source": [
    "# Instanciación del modelo\n",
    "llm = OllamaLLM(temperature=0.1, model=\"phi3:3.8b\")  # ELEGIR EL MODELO A UTILIZAR."
   ]
  },
  {
   "cell_type": "code",
   "execution_count": null,
   "id": "035bd02d-56e1-49d5-840a-d42664988b37",
   "metadata": {},
   "outputs": [],
   "source": [
    "# Se crea la cadena usando Lang Chain Expression Language (LCEL)\n",
    "# 'context': recuperación de la base de datos vectorial.\n",
    "# 'question': pregunta del usuario sin modificaciones (RunnablePassthrough()).\n",
    "# 'rag_prompt': el que se definió más arriba.\n",
    "# 'llm': el modelo que se cargó.\n",
    "# StrOutputParse(): formato más legible a la respuesta del modelo de lenguaje.\n",
    "semantic_rag_chain = (\n",
    "    {\"context\": semantic_chunk_retriever, \"question\": RunnablePassthrough()}\n",
    "    | rag_prompt\n",
    "    | llm\n",
    "    | StrOutputParser()\n",
    ")"
   ]
  },
  {
   "cell_type": "code",
   "execution_count": null,
   "id": "02b0d442-7b46-4e94-a5bc-222c84d3f421",
   "metadata": {},
   "outputs": [],
   "source": [
    "# Obtener respuesta del modelo\n",
    "semantic_rag_chain.invoke(pregunta)"
   ]
  },
  {
   "cell_type": "code",
   "execution_count": null,
   "id": "2100d161-e2f1-4ef1-a357-e018840add86",
   "metadata": {},
   "outputs": [],
   "source": []
  },
  {
   "cell_type": "code",
   "execution_count": null,
   "id": "36fa8d87-b49f-4238-a807-a46da726acea",
   "metadata": {},
   "outputs": [],
   "source": []
  },
  {
   "cell_type": "code",
   "execution_count": null,
   "id": "73e319c1-2e11-4455-97eb-9b97eabdee3f",
   "metadata": {},
   "outputs": [],
   "source": []
  }
 ],
 "metadata": {
  "kernelspec": {
   "display_name": "Python 3 (ipykernel)",
   "language": "python",
   "name": "python3"
  },
  "language_info": {
   "codemirror_mode": {
    "name": "ipython",
    "version": 3
   },
   "file_extension": ".py",
   "mimetype": "text/x-python",
   "name": "python",
   "nbconvert_exporter": "python",
   "pygments_lexer": "ipython3",
   "version": "3.12.4"
  }
 },
 "nbformat": 4,
 "nbformat_minor": 5
}
